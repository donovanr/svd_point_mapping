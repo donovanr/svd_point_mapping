{
 "cells": [
  {
   "cell_type": "markdown",
   "metadata": {},
   "source": [
    "# How to use SVD to align sets of points"
   ]
  },
  {
   "cell_type": "code",
   "execution_count": null,
   "metadata": {
    "collapsed": true
   },
   "outputs": [],
   "source": [
    "using Gadfly; set_default_plot_size(11cm, 10cm)\n",
    "using DataFrames\n",
    "\n",
    "my_module_dir = pwd()\n",
    "in(my_module_dir,LOAD_PATH) || push!(LOAD_PATH, my_module_dir)\n",
    "\n",
    "using align_svd\n",
    "using rots"
   ]
  },
  {
   "cell_type": "markdown",
   "metadata": {},
   "source": [
    "## Alignment algorithm"
   ]
  },
  {
   "cell_type": "markdown",
   "metadata": {
    "collapsed": false
   },
   "source": [
    "See `align_svd.jl` for the algorithm that computes the optimal rotation and translation to map one set of points onto another"
   ]
  },
  {
   "cell_type": "markdown",
   "metadata": {},
   "source": [
    "## 2 Dimensions"
   ]
  },
  {
   "cell_type": "code",
   "execution_count": null,
   "metadata": {
    "collapsed": false
   },
   "outputs": [],
   "source": [
    "d = 2\n",
    "npoints = 4\n",
    "scale = 10\n",
    "noise = 0.01*scale\n",
    "\n",
    "mypoints = scale*( (rand(d,npoints) - 0.5) .+ 0.5*rand(d) ) # initial set of points\n",
    "\n",
    "θ = 2*pi*rand(); # random angle by which original points are rotated\n",
    "offset = 0.5*scale*rand(d); # random translation of original points\n",
    "\n",
    "newpoints = rots.rot_2D(θ)*mypoints + noise*randn(d,npoints) .+ offset;"
   ]
  },
  {
   "cell_type": "code",
   "execution_count": null,
   "metadata": {
    "collapsed": false
   },
   "outputs": [],
   "source": [
    "remappedpoints = align_svd.map_points(newpoints,mypoints);"
   ]
  },
  {
   "cell_type": "code",
   "execution_count": null,
   "metadata": {
    "collapsed": false
   },
   "outputs": [],
   "source": [
    "df1 = DataFrame(x = vec(mypoints[1,:]), y = vec(mypoints[2,:]), tag=\"original\");\n",
    "df2 = DataFrame(x = vec(newpoints[1,:]), y = vec(newpoints[2,:]), tag=\"translated\");\n",
    "df3 = DataFrame(x = vec(remappedpoints[1,:]), y = vec(remappedpoints[2,:]), tag=\"aligned\");\n",
    "dftot = vcat(df1,df2,df3);"
   ]
  },
  {
   "cell_type": "code",
   "execution_count": null,
   "metadata": {
    "collapsed": false
   },
   "outputs": [],
   "source": [
    "plot(dftot, x=\"x\", y=\"y\",color=\"tag\", Coord.Cartesian(xmin=-scale, xmax=scale, ymin=-scale, ymax=scale), Geom.point)"
   ]
  },
  {
   "cell_type": "markdown",
   "metadata": {},
   "source": [
    "## 3 Dimensions"
   ]
  },
  {
   "cell_type": "code",
   "execution_count": null,
   "metadata": {
    "collapsed": false
   },
   "outputs": [],
   "source": [
    "d = 3\n",
    "npoints = 4\n",
    "scale = 10\n",
    "noise = 0.01*scale\n",
    "\n",
    "mypoints = scale*( (rand(d,npoints) - 0.5) .+ 0.5*rand(d) ) # initial set of points\n",
    "\n",
    "θ = 2*π*rand();\n",
    "ϕ = π*rand();\n",
    "ψ = 2*π*rand();\n",
    "offset = 0.5*scale*rand(d); # random translation of original points\n",
    "\n",
    "newpoints = rots.rot_3D(θ,ϕ,ψ)*mypoints + noise*randn(d,npoints) .+ offset;"
   ]
  },
  {
   "cell_type": "code",
   "execution_count": null,
   "metadata": {
    "collapsed": false
   },
   "outputs": [],
   "source": [
    "remappedpoints = align_svd.map_points(newpoints,mypoints);"
   ]
  },
  {
   "cell_type": "code",
   "execution_count": null,
   "metadata": {
    "collapsed": false
   },
   "outputs": [],
   "source": [
    "df3d_1 = DataFrame(x = vec(mypoints[1,:]), y = vec(mypoints[2,:]), z = vec(mypoints[3,:]), tag=\"original\");\n",
    "df3d_2 = DataFrame(x = vec(newpoints[1,:]), y = vec(newpoints[2,:]), z = vec(newpoints[3,:]), tag=\"new\");\n",
    "df3d_3 = DataFrame(x = vec(remappedpoints[1,:]), y = vec(remappedpoints[2,:]), z = vec(remappedpoints[3,:]), tag=\"remap\");\n",
    "df3d_tot = vcat(df3d_1,df3d_2,df3d_3);"
   ]
  },
  {
   "cell_type": "code",
   "execution_count": null,
   "metadata": {
    "collapsed": false
   },
   "outputs": [],
   "source": [
    "plot(df3d_tot, x=\"x\", y=\"y\",color=\"tag\", Coord.Cartesian(xmin=-scale, xmax=scale, ymin=-scale, ymax=scale), Geom.point)"
   ]
  },
  {
   "cell_type": "code",
   "execution_count": null,
   "metadata": {
    "collapsed": false
   },
   "outputs": [],
   "source": [
    "plot(df3d_tot, x=\"y\", y=\"z\",color=\"tag\", Coord.Cartesian(xmin=-scale, xmax=scale, ymin=-scale, ymax=scale), Geom.point)"
   ]
  },
  {
   "cell_type": "code",
   "execution_count": null,
   "metadata": {
    "collapsed": false
   },
   "outputs": [],
   "source": [
    "plot(df3d_tot, x=\"z\", y=\"x\",color=\"tag\", Coord.Cartesian(xmin=-scale, xmax=scale, ymin=-scale, ymax=scale), Geom.point)"
   ]
  }
 ],
 "metadata": {
  "kernelspec": {
   "display_name": "Julia 0.3.8-pre",
   "language": "julia",
   "name": "julia-0.3"
  },
  "language_info": {
   "name": "julia",
   "version": "0.3.8"
  }
 },
 "nbformat": 4,
 "nbformat_minor": 0
}
