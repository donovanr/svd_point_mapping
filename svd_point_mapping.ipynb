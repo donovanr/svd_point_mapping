{
 "cells": [
  {
   "cell_type": "markdown",
   "metadata": {},
   "source": [
    "# How to use SVD to align sets of points"
   ]
  },
  {
   "cell_type": "code",
   "execution_count": null,
   "metadata": {
    "collapsed": true
   },
   "outputs": [],
   "source": [
    "using Gadfly; set_default_plot_size(11cm, 10cm)\n",
    "using DataFrames"
   ]
  },
  {
   "cell_type": "markdown",
   "metadata": {},
   "source": [
    "## Alignment algorithm"
   ]
  },
  {
   "cell_type": "code",
   "execution_count": null,
   "metadata": {
    "collapsed": false
   },
   "outputs": [],
   "source": [
    "# This function maps points P back onto reference points Q, returning the best fit remapped points M.\n",
    "# P and Q should be d x n matrices, where D is the dimension of space and N is the number of points,\n",
    "# i.e., they should be short and long matrices, not tall and skinny.\n",
    "\n",
    "function align(P,Q)\n",
    "    size(P) == size(Q) || error(\"The two sets of points must be the same size.\")\n",
    "    \n",
    "    d,n = size(P)\n",
    "    d < n || error(\"You should specify more points than dimensions. Are your matrices transposed?\")\n",
    "    \n",
    "    p = mean(P,2)\n",
    "    q = mean(Q,2)\n",
    "\n",
    "    X = P .- p\n",
    "    Y = Q .- q\n",
    "\n",
    "    U,S,V = svd(X*Y') # julia svd returns V, not V'\n",
    "\n",
    "    S = eye(d)\n",
    "    S[d,d] = sign(det(V*U')) # prohibit reflections\n",
    "\n",
    "    R = V*S*U'\n",
    "    t = q - R*p\n",
    "\n",
    "    M = R*P .+ t\n",
    "end;"
   ]
  },
  {
   "cell_type": "markdown",
   "metadata": {},
   "source": [
    "## 2 Dimensions"
   ]
  },
  {
   "cell_type": "code",
   "execution_count": null,
   "metadata": {
    "collapsed": false
   },
   "outputs": [],
   "source": [
    "d = 2\n",
    "npoints = 4\n",
    "scale = 10\n",
    "noise = 0.01*scale\n",
    "\n",
    "mypoints = scale*( (rand(d,npoints) - 0.5) .+ 0.5*rand(d) ) # initial set of points\n",
    "\n",
    "θ = 2*pi*rand(); # random angle by which original points are rotated\n",
    "offset = 0.5*scale*rand(d); # random translation of original points\n",
    "\n",
    "function Rot_2D(θ)\n",
    "    [cos(θ) -sin(θ);\n",
    "     sin(θ)  cos(θ)]\n",
    "end\n",
    "\n",
    "newpoints = Rot_2D(θ)*mypoints + noise*randn(d,npoints) .+ offset;"
   ]
  },
  {
   "cell_type": "code",
   "execution_count": null,
   "metadata": {
    "collapsed": false
   },
   "outputs": [],
   "source": [
    "remappedpoints = align(newpoints,mypoints);"
   ]
  },
  {
   "cell_type": "code",
   "execution_count": null,
   "metadata": {
    "collapsed": false
   },
   "outputs": [],
   "source": [
    "df1 = DataFrame(x = vec(mypoints[1,:]), y = vec(mypoints[2,:]), tag=\"original\");\n",
    "df2 = DataFrame(x = vec(newpoints[1,:]), y = vec(newpoints[2,:]), tag=\"translated\");\n",
    "df3 = DataFrame(x = vec(remappedpoints[1,:]), y = vec(remappedpoints[2,:]), tag=\"aligned\");\n",
    "dftot = vcat(df1,df2,df3);"
   ]
  },
  {
   "cell_type": "code",
   "execution_count": null,
   "metadata": {
    "collapsed": false
   },
   "outputs": [],
   "source": [
    "plot(dftot, x=\"x\", y=\"y\",color=\"tag\", Coord.Cartesian(xmin=-scale, xmax=scale, ymin=-scale, ymax=scale), Geom.point)"
   ]
  },
  {
   "cell_type": "markdown",
   "metadata": {},
   "source": [
    "## 3 Dimensions"
   ]
  },
  {
   "cell_type": "code",
   "execution_count": null,
   "metadata": {
    "collapsed": false
   },
   "outputs": [],
   "source": [
    "d = 3\n",
    "npoints = 4\n",
    "scale = 10\n",
    "noise = 0.01*scale\n",
    "\n",
    "mypoints = scale*( (rand(d,npoints) - 0.5) .+ 0.5*rand(d) ) # initial set of points\n",
    "\n",
    "θ = 2*π*rand();\n",
    "ϕ = π*rand();\n",
    "ψ = 2*π*rand();\n",
    "offset = 0.5*scale*rand(d); # random translation of original points\n",
    "\n",
    "# return rotation matrix implied by the three euler angles\n",
    "# uses z-x-z' convention\n",
    "function rot_3D(θ,ϕ,ψ)\n",
    "    R11 =  cos(ψ)*cos(ϕ) - cos(θ)*sin(ϕ)*sin(ψ)\n",
    "    R12 =  cos(ψ)*sin(ϕ) + cos(θ)*cos(ϕ)*sin(ψ)\n",
    "    R13 =  sin(ψ)*sin(θ)\n",
    "    R21 = -sin(ψ)*cos(ϕ) - cos(θ)*sin(ϕ)*cos(ψ)\n",
    "    R22 = -sin(ψ)*sin(ϕ) + cos(θ)*cos(ϕ)*cos(ψ)\n",
    "    R23 =  cos(ψ)*sin(θ)\n",
    "    R31 =  sin(θ)*sin(ϕ)\n",
    "    R32 = -sin(θ)*cos(ϕ)\n",
    "    R33 =  cos(θ)\n",
    "    R = [R11 R12 R13;\n",
    "         R21 R22 R23;\n",
    "         R31 R32 R33]\n",
    "end\n",
    "\n",
    "newpoints = rot_3D(θ,ϕ,ψ)*mypoints + noise*randn(d,npoints) .+ offset;"
   ]
  },
  {
   "cell_type": "code",
   "execution_count": null,
   "metadata": {
    "collapsed": false
   },
   "outputs": [],
   "source": [
    "remappedpoints = align(newpoints,mypoints);"
   ]
  },
  {
   "cell_type": "code",
   "execution_count": null,
   "metadata": {
    "collapsed": false
   },
   "outputs": [],
   "source": [
    "df3d_1 = DataFrame(x = vec(mypoints[1,:]), y = vec(mypoints[2,:]), z = vec(mypoints[3,:]), tag=\"original\");\n",
    "df3d_2 = DataFrame(x = vec(newpoints[1,:]), y = vec(newpoints[2,:]), z = vec(newpoints[3,:]), tag=\"new\");\n",
    "df3d_3 = DataFrame(x = vec(remappedpoints[1,:]), y = vec(remappedpoints[2,:]), z = vec(remappedpoints[3,:]), tag=\"remap\");\n",
    "df3d_tot = vcat(df3d_1,df3d_2,df3d_3);"
   ]
  },
  {
   "cell_type": "code",
   "execution_count": null,
   "metadata": {
    "collapsed": false
   },
   "outputs": [],
   "source": [
    "plot(df3d_tot, x=\"x\", y=\"y\",color=\"tag\", Coord.Cartesian(xmin=-scale, xmax=scale, ymin=-scale, ymax=scale), Geom.point)"
   ]
  },
  {
   "cell_type": "code",
   "execution_count": null,
   "metadata": {
    "collapsed": false
   },
   "outputs": [],
   "source": [
    "plot(df3d_tot, x=\"x\", y=\"z\",color=\"tag\", Coord.Cartesian(xmin=-scale, xmax=scale, ymin=-scale, ymax=scale), Geom.point)"
   ]
  },
  {
   "cell_type": "code",
   "execution_count": null,
   "metadata": {
    "collapsed": false
   },
   "outputs": [],
   "source": [
    "plot(df3d_tot, x=\"y\", y=\"z\",color=\"tag\", Coord.Cartesian(xmin=-scale, xmax=scale, ymin=-scale, ymax=scale), Geom.point)"
   ]
  }
 ],
 "metadata": {
  "kernelspec": {
   "display_name": "Julia 0.3.8-pre",
   "language": "julia",
   "name": "julia-0.3"
  },
  "language_info": {
   "name": "julia",
   "version": "0.3.8"
  }
 },
 "nbformat": 4,
 "nbformat_minor": 0
}
