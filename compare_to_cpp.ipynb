{
 "cells": [
  {
   "cell_type": "code",
   "execution_count": null,
   "metadata": {
    "collapsed": false
   },
   "outputs": [],
   "source": [
    "using Quaternions\n",
    "\n",
    "my_module_dir = pwd()\n",
    "in(my_module_dir,LOAD_PATH) || push!(LOAD_PATH, my_module_dir)\n",
    "\n",
    "using align_svd\n",
    "using rots"
   ]
  },
  {
   "cell_type": "code",
   "execution_count": null,
   "metadata": {
    "collapsed": false
   },
   "outputs": [],
   "source": [
    "q = normalize(quat(1.0,2.0,3.0,4.0))\n",
    "initial_trans = [7.0;4.0;5.0]\n",
    "initial_rot = rotationmatrix(q)"
   ]
  },
  {
   "cell_type": "code",
   "execution_count": null,
   "metadata": {
    "collapsed": false
   },
   "outputs": [],
   "source": [
    "mu_mypoints1 = [1.0;2.0;3.0]\n",
    "mu_mypoints2 = [4.0;5.0;6.0]\n",
    "mu_mypoints3 = [7.0;8.0;9.0]\n",
    "mu_mypoints4 = [0.0;1.0;2.0]\n",
    "mypoints = [mu_mypoints1 mu_mypoints2 mu_mypoints3 mu_mypoints4]"
   ]
  },
  {
   "cell_type": "code",
   "execution_count": null,
   "metadata": {
    "collapsed": false
   },
   "outputs": [],
   "source": [
    "newpoints = initial_rot*mypoints .+ initial_trans"
   ]
  },
  {
   "cell_type": "code",
   "execution_count": null,
   "metadata": {
    "collapsed": false
   },
   "outputs": [],
   "source": [
    "trans = align_svd.transformation(newpoints,mypoints)"
   ]
  },
  {
   "cell_type": "code",
   "execution_count": null,
   "metadata": {
    "collapsed": false
   },
   "outputs": [],
   "source": [
    "remappedpoints = align_svd.map_points(newpoints,mypoints)"
   ]
  }
 ],
 "metadata": {
  "kernelspec": {
   "display_name": "Julia 0.3.8-pre",
   "language": "julia",
   "name": "julia-0.3"
  },
  "language_info": {
   "name": "julia",
   "version": "0.3.8"
  }
 },
 "nbformat": 4,
 "nbformat_minor": 0
}
